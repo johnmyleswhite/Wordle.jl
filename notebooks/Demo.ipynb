{
 "cells": [
  {
   "cell_type": "code",
   "execution_count": 1,
   "id": "f13d6c75",
   "metadata": {},
   "outputs": [],
   "source": [
    "cd(\"..\")"
   ]
  },
  {
   "cell_type": "code",
   "execution_count": 2,
   "id": "d77bc423",
   "metadata": {},
   "outputs": [
    {
     "name": "stderr",
     "output_type": "stream",
     "text": [
      "\u001b[32m\u001b[1m  Activating\u001b[22m\u001b[39m project at `~/Wordle`\n"
     ]
    }
   ],
   "source": [
    "import Pkg\n",
    "\n",
    "Pkg.activate(\".\")"
   ]
  },
  {
   "cell_type": "code",
   "execution_count": 3,
   "id": "2cb26fd8",
   "metadata": {},
   "outputs": [],
   "source": [
    "import Wordle: play"
   ]
  },
  {
   "cell_type": "code",
   "execution_count": 4,
   "id": "466b1f78",
   "metadata": {},
   "outputs": [
    {
     "data": {
      "text/plain": [
       "4"
      ]
     },
     "execution_count": 4,
     "metadata": {},
     "output_type": "execute_result"
    }
   ],
   "source": [
    "play(\"panic\")"
   ]
  },
  {
   "cell_type": "code",
   "execution_count": 5,
   "id": "10f5a69e",
   "metadata": {},
   "outputs": [
    {
     "name": "stdout",
     "output_type": "stream",
     "text": [
      "Iteration: 1\n",
      "Candidate: irate\n",
      "🟨⬜🟨⬜⬜\n",
      "Iteration: 2\n",
      "Candidate: basin\n",
      "🟨⬜🟨⬜⬜\n",
      "⬜🟩⬜🟩🟨\n",
      "Iteration: 3\n",
      "Candidate: manic\n",
      "🟨⬜🟨⬜⬜\n",
      "⬜🟩⬜🟩🟨\n",
      "⬜🟩🟩🟩🟩\n",
      "Iteration: 4\n",
      "Candidate: panic\n",
      "🟨⬜🟨⬜⬜\n",
      "⬜🟩⬜🟩🟨\n",
      "⬜🟩🟩🟩🟩\n",
      "🟩🟩🟩🟩🟩\n",
      "Success!\n"
     ]
    },
    {
     "data": {
      "text/plain": [
       "4"
      ]
     },
     "execution_count": 5,
     "metadata": {},
     "output_type": "execute_result"
    }
   ],
   "source": [
    "play(\"panic\", verbose = true)"
   ]
  },
  {
   "cell_type": "code",
   "execution_count": 6,
   "id": "d8c219da",
   "metadata": {},
   "outputs": [
    {
     "name": "stdout",
     "output_type": "stream",
     "text": [
      "Iteration: 1\n",
      "Candidate: irate\n",
      "🟨⬜🟨⬜⬜\n",
      "==========================================\n",
      "Constraints\n",
      "* Lower Bounds:\n",
      " * a ≥ 1\n",
      " * i ≥ 1\n",
      "\n",
      "* Exact Matches:\n",
      " * ·····\n",
      "\n",
      "* Global Ban:\n",
      " * e = 0\n",
      " * r = 0\n",
      " * t = 0\n",
      "\n",
      "* Local Ban:\n",
      " * word[1] ≠ i\n",
      " * word[3] ≠ a\n",
      "==========================================\n",
      "\n",
      "Number of Candidates: 41 / 2315 [1.771%]\n",
      "Iteration: 2\n",
      "Candidate: basin\n",
      "🟨⬜🟨⬜⬜\n",
      "⬜🟩⬜🟩🟨\n",
      "==========================================\n",
      "Constraints\n",
      "* Lower Bounds:\n",
      " * a ≥ 1\n",
      " * i ≥ 1\n",
      " * n ≥ 1\n",
      "\n",
      "* Exact Matches:\n",
      " * ·a·i·\n",
      "\n",
      "* Global Ban:\n",
      " * b = 0\n",
      " * e = 0\n",
      " * r = 0\n",
      " * s = 0\n",
      " * t = 0\n",
      "\n",
      "* Local Ban:\n",
      " * word[1] ≠ i\n",
      " * word[3] ≠ a\n",
      " * word[5] ≠ n\n",
      "==========================================\n",
      "\n",
      "Number of Candidates: 3 / 2315 [0.130%]\n",
      "Candidates: [\"panic\", \"mania\", \"manic\"]\n",
      "\n",
      "Iteration: 3\n",
      "Candidate: manic\n",
      "🟨⬜🟨⬜⬜\n",
      "⬜🟩⬜🟩🟨\n",
      "⬜🟩🟩🟩🟩\n",
      "==========================================\n",
      "Constraints\n",
      "* Lower Bounds:\n",
      " * a ≥ 1\n",
      " * c ≥ 1\n",
      " * i ≥ 1\n",
      " * n ≥ 1\n",
      "\n",
      "* Exact Matches:\n",
      " * ·anic\n",
      "\n",
      "* Global Ban:\n",
      " * b = 0\n",
      " * e = 0\n",
      " * m = 0\n",
      " * r = 0\n",
      " * s = 0\n",
      " * t = 0\n",
      "\n",
      "* Local Ban:\n",
      " * word[1] ≠ i\n",
      " * word[3] ≠ a\n",
      " * word[5] ≠ n\n",
      "==========================================\n",
      "\n",
      "Number of Candidates: 1 / 2315 [0.043%]\n",
      "Candidates: [\"panic\"]\n",
      "\n",
      "Iteration: 4\n",
      "Candidate: panic\n",
      "🟨⬜🟨⬜⬜\n",
      "⬜🟩⬜🟩🟨\n",
      "⬜🟩🟩🟩🟩\n",
      "🟩🟩🟩🟩🟩\n",
      "==========================================\n",
      "Constraints\n",
      "* Lower Bounds:\n",
      " * a ≥ 1\n",
      " * c ≥ 1\n",
      " * i ≥ 1\n",
      " * n ≥ 1\n",
      " * p ≥ 1\n",
      "\n",
      "* Exact Matches:\n",
      " * panic\n",
      "\n",
      "* Global Ban:\n",
      " * b = 0\n",
      " * e = 0\n",
      " * m = 0\n",
      " * r = 0\n",
      " * s = 0\n",
      " * t = 0\n",
      "\n",
      "* Local Ban:\n",
      " * word[1] ≠ i\n",
      " * word[3] ≠ a\n",
      " * word[5] ≠ n\n",
      "==========================================\n",
      "\n",
      "Number of Candidates: 0 / 2315 [0.000%]\n",
      "Candidates: String[]\n",
      "\n",
      "Success!\n"
     ]
    },
    {
     "data": {
      "text/plain": [
       "4"
      ]
     },
     "execution_count": 6,
     "metadata": {},
     "output_type": "execute_result"
    }
   ],
   "source": [
    "play(\"panic\", verbose = true, debug = true)"
   ]
  }
 ],
 "metadata": {
  "kernelspec": {
   "display_name": "Julia 1.8.0-DEV",
   "language": "julia",
   "name": "julia-1.8"
  },
  "language_info": {
   "file_extension": ".jl",
   "mimetype": "application/julia",
   "name": "julia",
   "version": "1.8.0"
  }
 },
 "nbformat": 4,
 "nbformat_minor": 5
}
